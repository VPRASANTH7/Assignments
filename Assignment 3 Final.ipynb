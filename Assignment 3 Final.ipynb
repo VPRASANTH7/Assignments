{
 "cells": [
  {
   "cell_type": "markdown",
   "metadata": {},
   "source": [
    "# Task1"
   ]
  },
  {
   "cell_type": "markdown",
   "metadata": {},
   "source": [
    "##### 1. Write a function to compute 5/0 and use try/except to catch the exceptions."
   ]
  },
  {
   "cell_type": "code",
   "execution_count": 1,
   "metadata": {},
   "outputs": [],
   "source": [
    "def divide (x,y):\n",
    "    try:\n",
    "        result = x//y\n",
    "        print(result)\n",
    "    except ZeroDivisionError:\n",
    "        print(\"You are dividing by zero\")"
   ]
  },
  {
   "cell_type": "code",
   "execution_count": 2,
   "metadata": {},
   "outputs": [
    {
     "name": "stdout",
     "output_type": "stream",
     "text": [
      "You are dividing by zero\n"
     ]
    }
   ],
   "source": [
    "divide(5,0)"
   ]
  },
  {
   "cell_type": "markdown",
   "metadata": {},
   "source": [
    "##### 2.Implement a Python program to generate all sentences where subject is in [\"Americans\",\"Indians\"] and verb is in [\"Play\", \"watch\"] and the ##### object is in [\"Baseball\",\"cricket\"].\n",
    "##### Hint: Subject,Verb and Object should be declared in the program as shown below.\n",
    "##### subjects=[\"Americans \",\"Indians\"]\n",
    "##### verbs=[\"play\",\"watch\"]\n",
    "##### objects=[\"Baseball\",\"Cricket\"]\n",
    "##### Output should come as below:\n",
    "##### Americans play Baseball.\n",
    "##### Americans play Cricket.\n",
    "##### Americans watch Baseball.\n",
    "##### Americans watch Cricket.\n",
    "##### Indians play Baseball.\n",
    "##### Indians play Cricket.\n",
    "##### Indians watch Baseball.\n",
    "##### Indians watch Cricket."
   ]
  },
  {
   "cell_type": "code",
   "execution_count": 3,
   "metadata": {},
   "outputs": [],
   "source": [
    "subjects=[\"Americans \",\"Indians \"]\n",
    "verbs=[\"play \",\"watch \"]\n",
    "objects=[\"Baseball \",\"Cricket \"]"
   ]
  },
  {
   "cell_type": "code",
   "execution_count": 4,
   "metadata": {},
   "outputs": [
    {
     "name": "stdout",
     "output_type": "stream",
     "text": [
      "Americans play Baseball \n",
      "Americans play Cricket \n",
      "Americans watch Baseball \n",
      "Americans watch Cricket \n",
      "Indians play Baseball \n",
      "Indians play Cricket \n",
      "Indians watch Baseball \n",
      "Indians watch Cricket \n"
     ]
    }
   ],
   "source": [
    "for i in subjects:\n",
    "    for j in verbs:\n",
    "        for k in objects:\n",
    "            print(i+j+k)"
   ]
  },
  {
   "cell_type": "markdown",
   "metadata": {},
   "source": [
    "# Task 2"
   ]
  },
  {
   "cell_type": "markdown",
   "metadata": {},
   "source": [
    "##### Write a function so that the columns of the output matrix are powers of the input vector.\n",
    "##### The order of the powers is determined by the increasing boolean argument. Specifically, when\n",
    "##### increasing is False, the i-th output column is the input vector raised element-wise to the power\n",
    "##### of N - i - 1."
   ]
  },
  {
   "cell_type": "code",
   "execution_count": 9,
   "metadata": {},
   "outputs": [],
   "source": [
    "l = []\n",
    "def my_vander(arr,N,Increasing):\n",
    "    l.clear()\n",
    "    if Increasing == 'Yes':\n",
    "        for i in arr:\n",
    "            zi =[]\n",
    "            for k in range(N):\n",
    "                zi.append(i**k)\n",
    "            l.append(zi)\n",
    "    if Increasing == 'No':\n",
    "        for i in arr:\n",
    "            zi =[]\n",
    "            ran = range(N)\n",
    "            rev = ran[::-1]\n",
    "            for k in rev:\n",
    "                zi.append(i**k)\n",
    "            l.append(zi)"
   ]
  },
  {
   "cell_type": "code",
   "execution_count": 11,
   "metadata": {},
   "outputs": [
    {
     "data": {
      "text/plain": [
       "[[1, 1, 1, 1, 1], [1, 2, 4, 8, 16], [1, 3, 9, 27, 81], [1, 5, 25, 125, 625]]"
      ]
     },
     "execution_count": 11,
     "metadata": {},
     "output_type": "execute_result"
    }
   ],
   "source": [
    "x = [1,2,3,5]\n",
    "j = 5\n",
    "my_vander(x,j,'Yes')\n",
    "l"
   ]
  },
  {
   "cell_type": "code",
   "execution_count": 12,
   "metadata": {},
   "outputs": [
    {
     "data": {
      "text/plain": [
       "[[1, 1, 1, 1, 1], [16, 8, 4, 2, 1], [81, 27, 9, 3, 1], [625, 125, 25, 5, 1]]"
      ]
     },
     "execution_count": 12,
     "metadata": {},
     "output_type": "execute_result"
    }
   ],
   "source": [
    "my_vander(x,j,'No')\n",
    "l"
   ]
  }
 ],
 "metadata": {
  "kernelspec": {
   "display_name": "Python 3",
   "language": "python",
   "name": "python3"
  },
  "language_info": {
   "codemirror_mode": {
    "name": "ipython",
    "version": 3
   },
   "file_extension": ".py",
   "mimetype": "text/x-python",
   "name": "python",
   "nbconvert_exporter": "python",
   "pygments_lexer": "ipython3",
   "version": "3.7.3"
  }
 },
 "nbformat": 4,
 "nbformat_minor": 2
}
